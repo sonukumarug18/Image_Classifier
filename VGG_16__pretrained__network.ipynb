{
  "nbformat": 4,
  "nbformat_minor": 0,
  "metadata": {
    "colab": {
      "provenance": []
    },
    "kernelspec": {
      "name": "python3",
      "display_name": "Python 3"
    },
    "language_info": {
      "name": "python"
    }
  },
  "cells": [
    {
      "cell_type": "markdown",
      "source": [
        "data that can be downloaded at:\n",
        "https://www.kaggle.com/c/dogs-vs-cats/data\n",
        "\n",
        "Folder structure:\n",
        "- created a data/ folder\n",
        "- created train/ and validation/ subfolders inside data/\n",
        "- created cats/ and dogs/ subfolders inside train/ and validation/\n",
        "- put the cat pictures index 0-999 in data/train/cats\n",
        "- put the cat pictures index 1000-1400 in data/validation/cats\n",
        "- put the dogs pictures index 0-999 in data/train/dogs\n",
        "- put the dog pictures index 1000-1400 in data/validation/dogs\n",
        "So that we have 1000 training examples for each class, and 400 validation examples for each class.\n",
        "In summary, this is our directory structure:\n",
        "```\n",
        "data/\n",
        "    train/\n",
        "        dogs/\n",
        "            dog001.jpg\n",
        "            dog002.jpg\n",
        "            ...\n",
        "        cats/\n",
        "            cat001.jpg\n",
        "            cat002.jpg\n",
        "            ...\n",
        "    validation/\n",
        "        dogs/\n",
        "            dog001.jpg\n",
        "            dog002.jpg\n",
        "            ...\n",
        "        cats/\n",
        "            cat001.jpg\n",
        "            cat002.jpg\n",
        "            ..."
      ],
      "metadata": {
        "id": "ZVsiuhpSIh89"
      }
    },
    {
      "cell_type": "code",
      "execution_count": null,
      "metadata": {
        "id": "APITXbCoMCp9"
      },
      "outputs": [],
      "source": [
        "#import all required libraries\n",
        "import numpy as np\n",
        "from keras.preprocessing.image import ImageDataGenerator\n",
        "from keras.models import Sequential\n",
        "from keras.layers import Dropout, Flatten, Dense\n",
        "from keras import applications"
      ]
    },
    {
      "cell_type": "code",
      "source": [
        "# dimensions of our images.\n",
        "img_width, img_height = 150, 150\n",
        "\n",
        "top_model_weights_path = 'bottleneck_fc_model.h5'\n",
        "train_data_dir = '/content/drive/MyDrive/data/train'\n",
        "validation_data_dir = '/content/drive/MyDrive/data/validation'\n",
        "nb_train_samples = 2000\n",
        "nb_validation_samples = 800\n",
        "epochs = 50\n",
        "batch_size = 16\n"
      ],
      "metadata": {
        "id": "be6nimqyMIKv"
      },
      "execution_count": null,
      "outputs": []
    },
    {
      "cell_type": "markdown",
      "source": [
        "## Using the bottleneck features of a pre-trained network"
      ],
      "metadata": {
        "id": "JW9nDL84PkwX"
      }
    },
    {
      "cell_type": "code",
      "source": [
        "#using here Transfer Learning\n",
        "def save_bottlebeck_features():\n",
        "    datagen = ImageDataGenerator(rescale=1. / 255)\n",
        "\n",
        "    # build the VGG16 network\n",
        "    model = applications.VGG16(include_top=False, weights='imagenet') #load the Pretrained VGG-16 Model with Imagenet weights (Without top layer)\n",
        "\n",
        "    generator = datagen.flow_from_directory(\n",
        "        train_data_dir,\n",
        "        target_size=(img_width, img_height),\n",
        "        batch_size=batch_size,\n",
        "        class_mode=None,\n",
        "        shuffle=False)\n",
        "    bottleneck_features_train = model.predict_generator(\n",
        "        generator, nb_train_samples // batch_size)\n",
        "    np.save('bottleneck_features_train.npy',bottleneck_features_train)\n",
        "\n",
        "    generator = datagen.flow_from_directory(\n",
        "        validation_data_dir,\n",
        "        target_size=(img_width, img_height),\n",
        "        batch_size=batch_size,\n",
        "        class_mode=None,\n",
        "        shuffle=False)\n",
        "    bottleneck_features_validation = model.predict_generator(\n",
        "        generator, nb_validation_samples // batch_size)\n",
        "    np.save('bottleneck_features_validation.npy',bottleneck_features_validation)\n",
        "\n",
        "# run this model on our training and validation data once, recording the output (the \"bottleneck features\" from the VGG16 model)\n",
        "\n",
        "def train_top_model():\n",
        "    train_data = np.load('bottleneck_features_train.npy')\n",
        "    train_labels = np.array([0] * (nb_train_samples // 2) + [1] * (nb_train_samples // 2))\n",
        "\n",
        "    validation_data = np.load('bottleneck_features_validation.npy')\n",
        "    validation_labels = np.array([0] * (nb_validation_samples // 2) + [1] * (nb_validation_samples // 2))\n",
        "\n",
        "#will train a small fully-connected model on top of the stored features\n",
        "    model = Sequential()\n",
        "    model.add(Flatten(input_shape=train_data.shape[1:]))\n",
        "    model.add(Dense(256, activation='relu'))\n",
        "    model.add(Dropout(0.5))\n",
        "    model.add(Dense(1, activation='sigmoid'))\n",
        "\n",
        "    model.compile(optimizer='rmsprop',\n",
        "                  loss='binary_crossentropy', metrics=['accuracy'])\n",
        "\n",
        "    model.fit(train_data, train_labels,\n",
        "              epochs=epochs,\n",
        "              batch_size=batch_size,\n",
        "              validation_data=(validation_data, validation_labels))\n",
        "    model.save_weights(top_model_weights_path) \n",
        "\n",
        "\n",
        "save_bottlebeck_features()\n",
        "train_top_model()"
      ],
      "metadata": {
        "colab": {
          "base_uri": "https://localhost:8080/"
        },
        "id": "Kq-PNnjUM-_X",
        "outputId": "9e2704ce-8cf4-42b6-aa9b-6c5ba1f4ce74"
      },
      "execution_count": null,
      "outputs": [
        {
          "output_type": "stream",
          "name": "stdout",
          "text": [
            "Found 2000 images belonging to 2 classes.\n"
          ]
        },
        {
          "output_type": "stream",
          "name": "stderr",
          "text": [
            "<ipython-input-7-e675c8346354>:13: UserWarning: `Model.predict_generator` is deprecated and will be removed in a future version. Please use `Model.predict`, which supports generators.\n",
            "  bottleneck_features_train = model.predict_generator(\n"
          ]
        },
        {
          "output_type": "stream",
          "name": "stdout",
          "text": [
            "Found 802 images belonging to 2 classes.\n"
          ]
        },
        {
          "output_type": "stream",
          "name": "stderr",
          "text": [
            "<ipython-input-7-e675c8346354>:23: UserWarning: `Model.predict_generator` is deprecated and will be removed in a future version. Please use `Model.predict`, which supports generators.\n",
            "  bottleneck_features_validation = model.predict_generator(\n"
          ]
        },
        {
          "output_type": "stream",
          "name": "stdout",
          "text": [
            "Epoch 1/50\n",
            "125/125 [==============================] - 4s 25ms/step - loss: 0.6311 - accuracy: 0.7610 - val_loss: 0.4334 - val_accuracy: 0.7738\n",
            "Epoch 2/50\n",
            "125/125 [==============================] - 4s 31ms/step - loss: 0.3309 - accuracy: 0.8615 - val_loss: 0.3160 - val_accuracy: 0.8625\n",
            "Epoch 3/50\n",
            "125/125 [==============================] - 3s 28ms/step - loss: 0.2794 - accuracy: 0.8895 - val_loss: 0.3226 - val_accuracy: 0.8700\n",
            "Epoch 4/50\n",
            "125/125 [==============================] - 3s 24ms/step - loss: 0.2258 - accuracy: 0.9105 - val_loss: 0.2852 - val_accuracy: 0.8963\n",
            "Epoch 5/50\n",
            "125/125 [==============================] - 3s 24ms/step - loss: 0.2259 - accuracy: 0.9135 - val_loss: 0.2510 - val_accuracy: 0.9013\n",
            "Epoch 6/50\n",
            "125/125 [==============================] - 3s 26ms/step - loss: 0.1883 - accuracy: 0.9295 - val_loss: 0.2666 - val_accuracy: 0.9025\n",
            "Epoch 7/50\n",
            "125/125 [==============================] - 4s 32ms/step - loss: 0.1652 - accuracy: 0.9345 - val_loss: 0.3287 - val_accuracy: 0.9013\n",
            "Epoch 8/50\n",
            "125/125 [==============================] - 3s 24ms/step - loss: 0.1414 - accuracy: 0.9465 - val_loss: 0.3062 - val_accuracy: 0.8988\n",
            "Epoch 9/50\n",
            "125/125 [==============================] - 3s 24ms/step - loss: 0.1364 - accuracy: 0.9525 - val_loss: 0.3619 - val_accuracy: 0.8938\n",
            "Epoch 10/50\n",
            "125/125 [==============================] - 3s 25ms/step - loss: 0.1045 - accuracy: 0.9575 - val_loss: 0.4909 - val_accuracy: 0.8763\n",
            "Epoch 11/50\n",
            "125/125 [==============================] - 4s 36ms/step - loss: 0.1089 - accuracy: 0.9555 - val_loss: 0.3641 - val_accuracy: 0.8913\n",
            "Epoch 12/50\n",
            "125/125 [==============================] - 3s 25ms/step - loss: 0.0945 - accuracy: 0.9605 - val_loss: 0.5037 - val_accuracy: 0.8763\n",
            "Epoch 13/50\n",
            "125/125 [==============================] - 3s 24ms/step - loss: 0.0756 - accuracy: 0.9690 - val_loss: 0.4284 - val_accuracy: 0.8963\n",
            "Epoch 14/50\n",
            "125/125 [==============================] - 3s 23ms/step - loss: 0.0810 - accuracy: 0.9695 - val_loss: 0.3796 - val_accuracy: 0.8863\n",
            "Epoch 15/50\n",
            "125/125 [==============================] - 4s 33ms/step - loss: 0.0656 - accuracy: 0.9740 - val_loss: 0.5167 - val_accuracy: 0.8825\n",
            "Epoch 16/50\n",
            "125/125 [==============================] - 3s 27ms/step - loss: 0.0588 - accuracy: 0.9765 - val_loss: 0.6057 - val_accuracy: 0.8763\n",
            "Epoch 17/50\n",
            "125/125 [==============================] - 3s 23ms/step - loss: 0.0602 - accuracy: 0.9770 - val_loss: 0.4963 - val_accuracy: 0.9013\n",
            "Epoch 18/50\n",
            "125/125 [==============================] - 3s 24ms/step - loss: 0.0444 - accuracy: 0.9835 - val_loss: 0.5383 - val_accuracy: 0.9013\n",
            "Epoch 19/50\n",
            "125/125 [==============================] - 4s 29ms/step - loss: 0.0379 - accuracy: 0.9885 - val_loss: 0.7087 - val_accuracy: 0.8788\n",
            "Epoch 20/50\n",
            "125/125 [==============================] - 4s 31ms/step - loss: 0.0461 - accuracy: 0.9820 - val_loss: 0.5271 - val_accuracy: 0.8950\n",
            "Epoch 21/50\n",
            "125/125 [==============================] - 3s 24ms/step - loss: 0.0435 - accuracy: 0.9830 - val_loss: 0.6798 - val_accuracy: 0.8888\n",
            "Epoch 22/50\n",
            "125/125 [==============================] - 3s 24ms/step - loss: 0.0404 - accuracy: 0.9850 - val_loss: 0.7987 - val_accuracy: 0.8725\n",
            "Epoch 23/50\n",
            "125/125 [==============================] - 3s 24ms/step - loss: 0.0286 - accuracy: 0.9875 - val_loss: 0.5392 - val_accuracy: 0.8938\n",
            "Epoch 24/50\n",
            "125/125 [==============================] - 4s 33ms/step - loss: 0.0266 - accuracy: 0.9905 - val_loss: 0.5762 - val_accuracy: 0.8913\n",
            "Epoch 25/50\n",
            "125/125 [==============================] - 3s 24ms/step - loss: 0.0341 - accuracy: 0.9890 - val_loss: 0.6696 - val_accuracy: 0.8863\n",
            "Epoch 26/50\n",
            "125/125 [==============================] - 3s 24ms/step - loss: 0.0130 - accuracy: 0.9970 - val_loss: 0.7115 - val_accuracy: 0.8963\n",
            "Epoch 27/50\n",
            "125/125 [==============================] - 3s 24ms/step - loss: 0.0343 - accuracy: 0.9875 - val_loss: 0.6134 - val_accuracy: 0.8950\n",
            "Epoch 28/50\n",
            "125/125 [==============================] - 4s 31ms/step - loss: 0.0276 - accuracy: 0.9895 - val_loss: 0.6483 - val_accuracy: 0.9062\n",
            "Epoch 29/50\n",
            "125/125 [==============================] - 4s 29ms/step - loss: 0.0238 - accuracy: 0.9905 - val_loss: 0.7616 - val_accuracy: 0.8775\n",
            "Epoch 30/50\n",
            "125/125 [==============================] - 3s 23ms/step - loss: 0.0130 - accuracy: 0.9955 - val_loss: 0.8807 - val_accuracy: 0.8825\n",
            "Epoch 31/50\n",
            "125/125 [==============================] - 3s 23ms/step - loss: 0.0243 - accuracy: 0.9940 - val_loss: 0.8176 - val_accuracy: 0.9025\n",
            "Epoch 32/50\n",
            "125/125 [==============================] - 3s 27ms/step - loss: 0.0255 - accuracy: 0.9905 - val_loss: 0.7663 - val_accuracy: 0.8988\n",
            "Epoch 33/50\n",
            "125/125 [==============================] - 4s 32ms/step - loss: 0.0286 - accuracy: 0.9880 - val_loss: 0.7391 - val_accuracy: 0.8950\n",
            "Epoch 34/50\n",
            "125/125 [==============================] - 3s 24ms/step - loss: 0.0148 - accuracy: 0.9960 - val_loss: 0.7505 - val_accuracy: 0.9025\n",
            "Epoch 35/50\n",
            "125/125 [==============================] - 3s 24ms/step - loss: 0.0078 - accuracy: 0.9985 - val_loss: 1.0058 - val_accuracy: 0.8800\n",
            "Epoch 36/50\n",
            "125/125 [==============================] - 3s 23ms/step - loss: 0.0289 - accuracy: 0.9890 - val_loss: 0.8031 - val_accuracy: 0.8963\n",
            "Epoch 37/50\n",
            "125/125 [==============================] - 4s 34ms/step - loss: 0.0241 - accuracy: 0.9930 - val_loss: 0.7672 - val_accuracy: 0.8975\n",
            "Epoch 38/50\n",
            "125/125 [==============================] - 3s 25ms/step - loss: 0.0097 - accuracy: 0.9970 - val_loss: 0.8335 - val_accuracy: 0.8950\n",
            "Epoch 39/50\n",
            "125/125 [==============================] - 3s 24ms/step - loss: 0.0103 - accuracy: 0.9975 - val_loss: 0.8843 - val_accuracy: 0.8938\n",
            "Epoch 40/50\n",
            "125/125 [==============================] - 3s 24ms/step - loss: 0.0098 - accuracy: 0.9975 - val_loss: 0.9017 - val_accuracy: 0.8963\n",
            "Epoch 41/50\n",
            "125/125 [==============================] - 3s 28ms/step - loss: 0.0150 - accuracy: 0.9955 - val_loss: 0.8814 - val_accuracy: 0.8950\n",
            "Epoch 42/50\n",
            "125/125 [==============================] - 4s 32ms/step - loss: 0.0158 - accuracy: 0.9955 - val_loss: 0.9564 - val_accuracy: 0.8925\n",
            "Epoch 43/50\n",
            "125/125 [==============================] - 3s 23ms/step - loss: 0.0206 - accuracy: 0.9935 - val_loss: 0.8017 - val_accuracy: 0.9050\n",
            "Epoch 44/50\n",
            "125/125 [==============================] - 3s 24ms/step - loss: 0.0134 - accuracy: 0.9965 - val_loss: 1.0936 - val_accuracy: 0.8975\n",
            "Epoch 45/50\n",
            "125/125 [==============================] - 3s 24ms/step - loss: 0.0164 - accuracy: 0.9945 - val_loss: 0.9828 - val_accuracy: 0.8925\n",
            "Epoch 46/50\n",
            "125/125 [==============================] - 4s 33ms/step - loss: 0.0105 - accuracy: 0.9965 - val_loss: 1.0112 - val_accuracy: 0.8913\n",
            "Epoch 47/50\n",
            "125/125 [==============================] - 3s 26ms/step - loss: 0.0144 - accuracy: 0.9955 - val_loss: 1.0370 - val_accuracy: 0.8875\n",
            "Epoch 48/50\n",
            "125/125 [==============================] - 3s 24ms/step - loss: 0.0114 - accuracy: 0.9965 - val_loss: 0.9424 - val_accuracy: 0.8975\n",
            "Epoch 49/50\n",
            "125/125 [==============================] - 3s 23ms/step - loss: 0.0146 - accuracy: 0.9960 - val_loss: 0.9892 - val_accuracy: 0.8850\n",
            "Epoch 50/50\n",
            "125/125 [==============================] - 3s 27ms/step - loss: 0.0048 - accuracy: 0.9985 - val_loss: 1.1505 - val_accuracy: 0.8875\n"
          ]
        }
      ]
    },
    {
      "cell_type": "markdown",
      "source": [
        "## Conclusion\n",
        "1. Reached validation accuracy of 0.88 after 50 epoch,not bad at all.\n",
        " "
      ],
      "metadata": {
        "id": "SQtTOA6BQzFd"
      }
    },
    {
      "cell_type": "code",
      "source": [],
      "metadata": {
        "id": "D7IHPf2tRMLD"
      },
      "execution_count": null,
      "outputs": []
    }
  ]
}