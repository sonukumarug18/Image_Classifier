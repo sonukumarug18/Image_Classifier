{
  "nbformat": 4,
  "nbformat_minor": 0,
  "metadata": {
    "colab": {
      "provenance": []
    },
    "kernelspec": {
      "name": "python3",
      "display_name": "Python 3"
    },
    "language_info": {
      "name": "python"
    }
  },
  "cells": [
    {
      "cell_type": "markdown",
      "source": [
        "data that can be downloaded at:\n",
        "https://www.kaggle.com/c/dogs-vs-cats/data\n",
        "\n",
        "Folder structure:\n",
        "- created a data/ folder\n",
        "- created train/ and validation/ subfolders inside data/\n",
        "- created cats/ and dogs/ subfolders inside train/ and validation/\n",
        "- put the cat pictures index 0-999 in data/train/cats\n",
        "- put the cat pictures index 1000-1400 in data/validation/cats\n",
        "- put the dogs pictures index 0-999 in data/train/dogs\n",
        "- put the dog pictures index 1000-1400 in data/validation/dogs\n",
        "So that we have 1000 training examples for each class, and 400 validation examples for each class.\n",
        "In summary, this is our directory structure:\n",
        "```\n",
        "data/\n",
        "    train/\n",
        "        dogs/\n",
        "            dog001.jpg\n",
        "            dog002.jpg\n",
        "            ...\n",
        "        cats/\n",
        "            cat001.jpg\n",
        "            cat002.jpg\n",
        "            ...\n",
        "    validation/\n",
        "        dogs/\n",
        "            dog001.jpg\n",
        "            dog002.jpg\n",
        "            ...\n",
        "        cats/\n",
        "            cat001.jpg\n",
        "            cat002.jpg\n",
        "            ..."
      ],
      "metadata": {
        "id": "vH2HCUHHEl57"
      }
    },
    {
      "cell_type": "code",
      "source": [
        "#import required libraries\n",
        "from keras.preprocessing.image import ImageDataGenerator\n",
        "from keras.models import Sequential\n",
        "from keras.layers import Conv2D, MaxPooling2D\n",
        "from keras.layers import Activation, Dropout, Flatten, Dense\n",
        "from keras import backend as K"
      ],
      "metadata": {
        "id": "J8yw-XpYfOWv"
      },
      "execution_count": null,
      "outputs": []
    },
    {
      "cell_type": "code",
      "execution_count": null,
      "metadata": {
        "colab": {
          "base_uri": "https://localhost:8080/"
        },
        "id": "T2i6-Wcmeq5s",
        "outputId": "7bb9d78d-ad59-4981-8059-5f7f2328acac"
      },
      "outputs": [
        {
          "output_type": "stream",
          "name": "stdout",
          "text": [
            "Mounted at /content/gdrive/\n"
          ]
        }
      ],
      "source": [
        "from google.colab import drive\n",
        "drive.mount('/content/gdrive/')\n"
      ]
    },
    {
      "cell_type": "code",
      "source": [
        "# dimensions of our images.\n",
        "img_width, img_height = 150, 150\n",
        "\n",
        "train_data_dir = '/content/gdrive/MyDrive/data/train'\n",
        "validation_data_dir = '/content/gdrive/MyDrive/data/validation'\n",
        "nb_train_samples = 2000\n",
        "nb_validation_samples = 800\n",
        "epochs = 50\n",
        "batch_size = 16\n",
        "\n",
        "if K.image_data_format() == 'channels_first':\n",
        "    input_shape = (3, img_width, img_height)\n",
        "else:\n",
        "    input_shape = (img_width, img_height, 3)\n",
        "\n",
        "#model, simple stack of 3 convolution layers with a ReLU activation and followed by max-pooling layers\n",
        "\n",
        "model = Sequential()\n",
        "model.add(Conv2D(32, (3, 3), input_shape=input_shape))\n",
        "model.add(Activation('relu'))\n",
        "model.add(MaxPooling2D(pool_size=(2, 2)))\n",
        "\n",
        "model.add(Conv2D(32, (3, 3)))\n",
        "model.add(Activation('relu'))\n",
        "model.add(MaxPooling2D(pool_size=(2, 2)))\n",
        "\n",
        "model.add(Conv2D(64, (3, 3)))\n",
        "model.add(Activation('relu'))\n",
        "model.add(MaxPooling2D(pool_size=(2, 2)))\n",
        "\n",
        "model.add(Flatten())\n",
        "model.add(Dense(64))\n",
        "model.add(Activation('relu'))\n",
        "model.add(Dropout(0.5))\n",
        "model.add(Dense(1))\n",
        "model.add(Activation('sigmoid'))\n",
        "\n",
        "model.compile(loss='binary_crossentropy',\n",
        "              optimizer='rmsprop',\n",
        "              metrics=['accuracy'])"
      ],
      "metadata": {
        "id": "PeQSwjBif6XZ"
      },
      "execution_count": null,
      "outputs": []
    },
    {
      "cell_type": "markdown",
      "source": [
        "## Data pre-processing and data augmentation"
      ],
      "metadata": {
        "id": "Ge9VB093DY9y"
      }
    },
    {
      "cell_type": "code",
      "source": [
        "# this is the augmentation configuration we will use for training\n",
        "train_datagen = ImageDataGenerator(\n",
        "    rescale=1. / 255,\n",
        "    shear_range=0.2,\n",
        "    zoom_range=0.2,\n",
        "    horizontal_flip=True)\n",
        "\n",
        "# this is the augmentation configuration we will use for testing:\n",
        "# only rescaling\n",
        "test_datagen = ImageDataGenerator(rescale=1. / 255)\n",
        "\n",
        "train_generator = train_datagen.flow_from_directory(\n",
        "    train_data_dir,\n",
        "    target_size=(img_width, img_height),\n",
        "    batch_size=batch_size,\n",
        "    class_mode='binary')\n",
        "\n",
        "validation_generator = test_datagen.flow_from_directory(\n",
        "    validation_data_dir,\n",
        "    target_size=(img_width, img_height),\n",
        "    batch_size=batch_size,\n",
        "    class_mode='binary')"
      ],
      "metadata": {
        "colab": {
          "base_uri": "https://localhost:8080/"
        },
        "id": "aX6aBclogPcX",
        "outputId": "811fae46-32dd-4f3b-acd0-6680b72c3bdc"
      },
      "execution_count": null,
      "outputs": [
        {
          "output_type": "stream",
          "name": "stdout",
          "text": [
            "Found 2000 images belonging to 2 classes.\n",
            "Found 802 images belonging to 2 classes.\n"
          ]
        }
      ]
    },
    {
      "cell_type": "markdown",
      "source": [
        "## Training a small convnet"
      ],
      "metadata": {
        "id": "oGS4SzFXDqVb"
      }
    },
    {
      "cell_type": "code",
      "source": [
        "model.fit_generator(\n",
        "    train_generator,\n",
        "    steps_per_epoch=nb_train_samples // batch_size,\n",
        "    epochs=epochs,\n",
        "    validation_data=validation_generator,\n",
        "    validation_steps=nb_validation_samples // batch_size)\n",
        "\n",
        "model.save_weights('first_try.h5') #save the model weights"
      ],
      "metadata": {
        "colab": {
          "base_uri": "https://localhost:8080/"
        },
        "id": "J9XrqZSpgjHy",
        "outputId": "6289942e-d34c-4ec3-f190-572ab2a3b24d"
      },
      "execution_count": null,
      "outputs": [
        {
          "output_type": "stream",
          "name": "stderr",
          "text": [
            "<ipython-input-9-240a007c2074>:1: UserWarning: `Model.fit_generator` is deprecated and will be removed in a future version. Please use `Model.fit`, which supports generators.\n",
            "  model.fit_generator(\n"
          ]
        },
        {
          "output_type": "stream",
          "name": "stdout",
          "text": [
            "Epoch 1/50\n",
            "125/125 [==============================] - 365s 3s/step - loss: 0.7074 - accuracy: 0.4935 - val_loss: 0.6898 - val_accuracy: 0.5000\n",
            "Epoch 2/50\n",
            "125/125 [==============================] - 89s 709ms/step - loss: 0.6930 - accuracy: 0.5240 - val_loss: 0.6880 - val_accuracy: 0.5013\n",
            "Epoch 3/50\n",
            "125/125 [==============================] - 87s 699ms/step - loss: 0.6849 - accuracy: 0.5570 - val_loss: 0.6447 - val_accuracy: 0.6438\n",
            "Epoch 4/50\n",
            "125/125 [==============================] - 88s 707ms/step - loss: 0.6524 - accuracy: 0.6225 - val_loss: 0.6491 - val_accuracy: 0.5738\n",
            "Epoch 5/50\n",
            "125/125 [==============================] - 87s 697ms/step - loss: 0.6282 - accuracy: 0.6450 - val_loss: 0.5779 - val_accuracy: 0.6925\n",
            "Epoch 6/50\n",
            "125/125 [==============================] - 87s 695ms/step - loss: 0.6129 - accuracy: 0.6710 - val_loss: 0.5873 - val_accuracy: 0.6825\n",
            "Epoch 7/50\n",
            "125/125 [==============================] - 88s 700ms/step - loss: 0.6017 - accuracy: 0.6845 - val_loss: 0.5912 - val_accuracy: 0.6712\n",
            "Epoch 8/50\n",
            "125/125 [==============================] - 89s 707ms/step - loss: 0.5725 - accuracy: 0.6870 - val_loss: 0.5569 - val_accuracy: 0.7163\n",
            "Epoch 9/50\n",
            "125/125 [==============================] - 88s 701ms/step - loss: 0.5724 - accuracy: 0.7090 - val_loss: 0.5467 - val_accuracy: 0.7250\n",
            "Epoch 10/50\n",
            "125/125 [==============================] - 88s 703ms/step - loss: 0.5703 - accuracy: 0.7115 - val_loss: 0.5789 - val_accuracy: 0.6938\n",
            "Epoch 11/50\n",
            "125/125 [==============================] - 88s 703ms/step - loss: 0.5605 - accuracy: 0.7185 - val_loss: 0.6919 - val_accuracy: 0.6525\n",
            "Epoch 12/50\n",
            "125/125 [==============================] - 88s 700ms/step - loss: 0.5632 - accuracy: 0.7050 - val_loss: 0.5298 - val_accuracy: 0.7250\n",
            "Epoch 13/50\n",
            "125/125 [==============================] - 89s 711ms/step - loss: 0.5509 - accuracy: 0.7290 - val_loss: 0.6215 - val_accuracy: 0.7150\n",
            "Epoch 14/50\n",
            "125/125 [==============================] - 88s 700ms/step - loss: 0.5290 - accuracy: 0.7470 - val_loss: 0.5314 - val_accuracy: 0.7437\n",
            "Epoch 15/50\n",
            "125/125 [==============================] - 87s 699ms/step - loss: 0.5232 - accuracy: 0.7485 - val_loss: 0.5206 - val_accuracy: 0.7525\n",
            "Epoch 16/50\n",
            "125/125 [==============================] - 88s 702ms/step - loss: 0.5154 - accuracy: 0.7415 - val_loss: 0.5168 - val_accuracy: 0.7500\n",
            "Epoch 17/50\n",
            "125/125 [==============================] - 88s 703ms/step - loss: 0.5026 - accuracy: 0.7570 - val_loss: 0.5584 - val_accuracy: 0.7412\n",
            "Epoch 18/50\n",
            "125/125 [==============================] - 87s 699ms/step - loss: 0.4964 - accuracy: 0.7625 - val_loss: 0.5969 - val_accuracy: 0.7300\n",
            "Epoch 19/50\n",
            "125/125 [==============================] - 88s 701ms/step - loss: 0.4889 - accuracy: 0.7720 - val_loss: 0.5072 - val_accuracy: 0.7588\n",
            "Epoch 20/50\n",
            "125/125 [==============================] - 87s 698ms/step - loss: 0.4664 - accuracy: 0.7860 - val_loss: 0.6140 - val_accuracy: 0.7300\n",
            "Epoch 21/50\n",
            "125/125 [==============================] - 88s 700ms/step - loss: 0.4808 - accuracy: 0.7675 - val_loss: 0.5570 - val_accuracy: 0.7675\n",
            "Epoch 22/50\n",
            "125/125 [==============================] - 87s 699ms/step - loss: 0.4828 - accuracy: 0.7820 - val_loss: 0.5269 - val_accuracy: 0.7513\n",
            "Epoch 23/50\n",
            "125/125 [==============================] - 88s 702ms/step - loss: 0.4581 - accuracy: 0.7910 - val_loss: 0.5151 - val_accuracy: 0.7487\n",
            "Epoch 24/50\n",
            "125/125 [==============================] - 88s 699ms/step - loss: 0.4544 - accuracy: 0.7985 - val_loss: 0.5228 - val_accuracy: 0.7675\n",
            "Epoch 25/50\n",
            "125/125 [==============================] - 88s 701ms/step - loss: 0.4485 - accuracy: 0.7915 - val_loss: 0.5001 - val_accuracy: 0.7688\n",
            "Epoch 26/50\n",
            "125/125 [==============================] - 87s 698ms/step - loss: 0.4411 - accuracy: 0.8165 - val_loss: 0.5120 - val_accuracy: 0.7613\n",
            "Epoch 27/50\n",
            "125/125 [==============================] - 88s 707ms/step - loss: 0.4356 - accuracy: 0.8035 - val_loss: 0.7687 - val_accuracy: 0.7525\n",
            "Epoch 28/50\n",
            "125/125 [==============================] - 89s 710ms/step - loss: 0.4597 - accuracy: 0.7915 - val_loss: 0.5275 - val_accuracy: 0.7588\n",
            "Epoch 29/50\n",
            "125/125 [==============================] - 87s 700ms/step - loss: 0.4279 - accuracy: 0.8065 - val_loss: 0.6893 - val_accuracy: 0.7487\n",
            "Epoch 30/50\n",
            "125/125 [==============================] - 89s 713ms/step - loss: 0.4249 - accuracy: 0.8230 - val_loss: 0.5997 - val_accuracy: 0.7663\n",
            "Epoch 31/50\n",
            "125/125 [==============================] - 88s 700ms/step - loss: 0.4143 - accuracy: 0.8205 - val_loss: 0.5216 - val_accuracy: 0.7850\n",
            "Epoch 32/50\n",
            "125/125 [==============================] - 88s 704ms/step - loss: 0.4169 - accuracy: 0.8135 - val_loss: 0.5409 - val_accuracy: 0.7650\n",
            "Epoch 33/50\n",
            "125/125 [==============================] - 88s 703ms/step - loss: 0.3942 - accuracy: 0.8270 - val_loss: 0.5567 - val_accuracy: 0.7825\n",
            "Epoch 34/50\n",
            "125/125 [==============================] - 87s 697ms/step - loss: 0.4125 - accuracy: 0.8260 - val_loss: 0.5091 - val_accuracy: 0.7850\n",
            "Epoch 35/50\n",
            "125/125 [==============================] - 90s 720ms/step - loss: 0.3910 - accuracy: 0.8365 - val_loss: 0.4859 - val_accuracy: 0.7850\n",
            "Epoch 36/50\n",
            "125/125 [==============================] - 88s 704ms/step - loss: 0.3875 - accuracy: 0.8355 - val_loss: 0.5689 - val_accuracy: 0.7775\n",
            "Epoch 37/50\n",
            "125/125 [==============================] - 88s 702ms/step - loss: 0.4199 - accuracy: 0.8205 - val_loss: 0.5436 - val_accuracy: 0.7638\n",
            "Epoch 38/50\n",
            "125/125 [==============================] - 88s 702ms/step - loss: 0.4031 - accuracy: 0.8250 - val_loss: 0.5733 - val_accuracy: 0.7800\n",
            "Epoch 39/50\n",
            "125/125 [==============================] - 88s 704ms/step - loss: 0.4017 - accuracy: 0.8265 - val_loss: 0.5476 - val_accuracy: 0.7713\n",
            "Epoch 40/50\n",
            "125/125 [==============================] - 87s 698ms/step - loss: 0.4076 - accuracy: 0.8215 - val_loss: 0.5713 - val_accuracy: 0.7862\n",
            "Epoch 41/50\n",
            "125/125 [==============================] - 90s 722ms/step - loss: 0.3906 - accuracy: 0.8200 - val_loss: 0.5614 - val_accuracy: 0.7900\n",
            "Epoch 42/50\n",
            "125/125 [==============================] - 90s 722ms/step - loss: 0.4065 - accuracy: 0.8325 - val_loss: 0.7942 - val_accuracy: 0.7450\n",
            "Epoch 43/50\n",
            "125/125 [==============================] - 88s 704ms/step - loss: 0.3730 - accuracy: 0.8405 - val_loss: 0.5105 - val_accuracy: 0.7775\n",
            "Epoch 44/50\n",
            "125/125 [==============================] - 88s 707ms/step - loss: 0.3693 - accuracy: 0.8450 - val_loss: 0.6433 - val_accuracy: 0.7375\n",
            "Epoch 45/50\n",
            "125/125 [==============================] - 88s 706ms/step - loss: 0.3829 - accuracy: 0.8400 - val_loss: 0.5138 - val_accuracy: 0.7625\n",
            "Epoch 46/50\n",
            "125/125 [==============================] - 89s 711ms/step - loss: 0.3525 - accuracy: 0.8415 - val_loss: 0.6740 - val_accuracy: 0.7600\n",
            "Epoch 47/50\n",
            "125/125 [==============================] - 90s 719ms/step - loss: 0.3785 - accuracy: 0.8355 - val_loss: 0.7117 - val_accuracy: 0.7475\n",
            "Epoch 48/50\n",
            "125/125 [==============================] - 89s 709ms/step - loss: 0.3840 - accuracy: 0.8475 - val_loss: 0.6202 - val_accuracy: 0.7750\n",
            "Epoch 49/50\n",
            "125/125 [==============================] - 89s 708ms/step - loss: 0.3776 - accuracy: 0.8465 - val_loss: 0.6447 - val_accuracy: 0.7775\n",
            "Epoch 50/50\n",
            "125/125 [==============================] - 88s 701ms/step - loss: 0.3566 - accuracy: 0.8490 - val_loss: 0.6567 - val_accuracy: 0.7713\n"
          ]
        }
      ]
    },
    {
      "cell_type": "markdown",
      "source": [
        "## Conclusion\n",
        "1. Got validation accuracy of 0.77 after 50 epochs.\n",
        "2. the variance of the validation accuracy is fairly high, because accuracy is a high-variance metric and because we only use 800 validation samples.\n",
        "3. A good validation strategy in such cases would be to do k-fold cross-validation, but this would require training k models for every evaluation round."
      ],
      "metadata": {
        "id": "2QyhPy3qFYLr"
      }
    },
    {
      "cell_type": "code",
      "source": [],
      "metadata": {
        "id": "RnsI76c8gpZe"
      },
      "execution_count": null,
      "outputs": []
    }
  ]
}